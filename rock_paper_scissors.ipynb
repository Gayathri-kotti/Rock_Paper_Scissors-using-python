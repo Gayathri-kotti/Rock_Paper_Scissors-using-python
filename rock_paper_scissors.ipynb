{
 "cells": [
  {
   "cell_type": "markdown",
   "metadata": {},
   "source": [
    "## Task 1 : Rock,Paper and Scissors Game\n",
    "Develop a Python console-based Rock, Paper, Scissors game where players can\n",
    "compete against the computer. Each player selects their choice (rock, paper, or\n",
    "scissors), and the program determines the winner based on the classic game\n",
    "rules. Display the result of each round, keep track of the score, and allow\n",
    "players to play multiple rounds. Ensure the game handles invalid inputs and\n",
    "provides a user-friendly experience."
   ]
  },
  {
   "cell_type": "code",
   "execution_count": 1,
   "metadata": {},
   "outputs": [
    {
     "name": "stdout",
     "output_type": "stream",
     "text": [
      "Welcome to the Rock-Paper-Scissors\n",
      "Enter rock, paper, or scissors (or 'quit' to exit): rock\n",
      "Computer chose: rock\n",
      "It's a tie\n",
      "User score: 0\n",
      "Computer score: 0\n",
      "----------------------------------\n",
      "Enter rock, paper, or scissors (or 'quit' to exit): paper\n",
      "Computer chose: scissors\n",
      "Computer wins!\n",
      "User score: 0\n",
      "Computer score: 1\n",
      "----------------------------------\n",
      "Enter rock, paper, or scissors (or 'quit' to exit): scissors\n",
      "Computer chose: paper\n",
      "You win!\n",
      "User score: 1\n",
      "Computer score: 1\n",
      "----------------------------------\n",
      "Enter rock, paper, or scissors (or 'quit' to exit): paper\n",
      "Computer chose: paper\n",
      "It's a tie\n",
      "User score: 1\n",
      "Computer score: 1\n",
      "----------------------------------\n",
      "Enter rock, paper, or scissors (or 'quit' to exit): quit\n",
      "You quit the game\n"
     ]
    }
   ],
   "source": [
    "import random\n",
    "\n",
    "def get_computer_choice():\n",
    "    choices = ['rock', 'scissors', 'paper']\n",
    "    return random.choice(choices)\n",
    "\n",
    "def get_user_choice():\n",
    "    choice = input(\"Enter rock, paper, or scissors (or 'quit' to exit): \").lower()\n",
    "    return choice\n",
    "\n",
    "def winner(user_choice, computer_choice):\n",
    "    if user_choice == computer_choice:\n",
    "        return \"It's a tie\"\n",
    "    elif (user_choice == 'rock' and computer_choice == 'scissors') or \\\n",
    "         (user_choice == 'paper' and computer_choice == 'rock') or \\\n",
    "         (user_choice == 'scissors' and computer_choice == 'paper'):\n",
    "        return \"You win!\"\n",
    "    else:\n",
    "        return \"Computer wins!\"\n",
    "\n",
    "def play_game():\n",
    "    user_score = 0\n",
    "    computer_score = 0\n",
    "\n",
    "    while True:\n",
    "        user_choice = get_user_choice()\n",
    "        if user_choice == \"quit\":\n",
    "            print(\"You quit the game\")\n",
    "            break\n",
    "        if user_choice not in ['rock', 'paper', 'scissors']:\n",
    "            print(\"Invalid input, select from rock, paper, scissors or quit\")\n",
    "            continue\n",
    "        computer_choice = get_computer_choice()\n",
    "        print(f\"Computer chose: {computer_choice}\")\n",
    "        \n",
    "        result = winner(user_choice, computer_choice)\n",
    "        print(result)\n",
    "        \n",
    "        if \"You win!\" in result:\n",
    "            user_score += 1\n",
    "        elif \"Computer wins!\" in result:\n",
    "            computer_score += 1\n",
    "        print(f\"User score: {user_score}\")\n",
    "        print(f\"Computer score: {computer_score}\")\n",
    "        print(\"----------------------------------\")       \n",
    "\n",
    "if __name__ == \"__main__\":\n",
    "    print(\"Welcome to the Rock-Paper-Scissors\")\n",
    "    play_game()\n"
   ]
  }
 ],
 "metadata": {
  "kernelspec": {
   "display_name": "Python 3",
   "language": "python",
   "name": "python3"
  },
  "language_info": {
   "codemirror_mode": {
    "name": "ipython",
    "version": 3
   },
   "file_extension": ".py",
   "mimetype": "text/x-python",
   "name": "python",
   "nbconvert_exporter": "python",
   "pygments_lexer": "ipython3",
   "version": "3.6.5"
  }
 },
 "nbformat": 4,
 "nbformat_minor": 2
}
